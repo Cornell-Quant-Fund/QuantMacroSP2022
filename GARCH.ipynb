{
 "cells": [
  {
   "cell_type": "code",
   "execution_count": 115,
   "metadata": {},
   "outputs": [],
   "source": [
    "import pandas as pd\n",
    "import numpy as np\n",
    "import yfinance as yf\n",
    "import arch\n",
    "from arch.unitroot import ADF\n",
    "from arch import arch_model\n",
    "import matplotlib.pyplot as plt\n",
    "import datetime"
   ]
  },
  {
   "cell_type": "code",
   "execution_count": 97,
   "metadata": {},
   "outputs": [
    {
     "name": "stdout",
     "output_type": "stream",
     "text": [
      "[*********************100%***********************]  1 of 1 completed\n",
      "[*********************100%***********************]  1 of 1 completed\n"
     ]
    }
   ],
   "source": [
    "seel = yf.download(tickers=\"SEEL\", period=\"7d\", interval=\"1m\")\n",
    "zyne = yf.download(tickers=\"ZYNE\", period=\"7d\", interval=\"1m\")"
   ]
  },
  {
   "cell_type": "code",
   "execution_count": 113,
   "metadata": {},
   "outputs": [
    {
     "name": "stdout",
     "output_type": "stream",
     "text": [
      "   Augmented Dickey-Fuller Results   \n",
      "=====================================\n",
      "Test Statistic                 -1.139\n",
      "P-value                         0.699\n",
      "Lags                               25\n",
      "-------------------------------------\n",
      "\n",
      "Trend: Constant\n",
      "Critical Values: -3.43 (1%), -2.86 (5%), -2.57 (10%)\n",
      "Null Hypothesis: The process contains a unit root.\n",
      "Alternative Hypothesis: The process is weakly stationary.\n"
     ]
    }
   ],
   "source": [
    "seel_adf = ADF(seel[\"Close\"])\n",
    "print(seel_adf.summary().as_text())"
   ]
  },
  {
   "cell_type": "code",
   "execution_count": 99,
   "metadata": {},
   "outputs": [
    {
     "name": "stdout",
     "output_type": "stream",
     "text": [
      "   Augmented Dickey-Fuller Results   \n",
      "=====================================\n",
      "Test Statistic                 -1.950\n",
      "P-value                         0.309\n",
      "Lags                                1\n",
      "-------------------------------------\n",
      "\n",
      "Trend: Constant\n",
      "Critical Values: -3.44 (1%), -2.86 (5%), -2.57 (10%)\n",
      "Null Hypothesis: The process contains a unit root.\n",
      "Alternative Hypothesis: The process is weakly stationary.\n"
     ]
    }
   ],
   "source": [
    "zyne_adf = ADF(zyne[\"Close\"])\n",
    "print(zyne_adf.summary().as_text())"
   ]
  },
  {
   "cell_type": "code",
   "execution_count": 50,
   "metadata": {},
   "outputs": [
    {
     "name": "stdout",
     "output_type": "stream",
     "text": [
      "Iteration:      1,   Func. Count:      8,   Neg. LLF: 412.25060912046354\n",
      "Iteration:      2,   Func. Count:     18,   Neg. LLF: 412.2152827223017\n",
      "Iteration:      3,   Func. Count:     29,   Neg. LLF: 412.1765534570088\n",
      "Iteration:      4,   Func. Count:     39,   Neg. LLF: 412.10377959838297\n",
      "Iteration:      5,   Func. Count:     48,   Neg. LLF: 412.06137308880886\n",
      "Iteration:      6,   Func. Count:     57,   Neg. LLF: 412.0037286793126\n",
      "Iteration:      7,   Func. Count:     67,   Neg. LLF: 411.97997038753874\n",
      "Iteration:      8,   Func. Count:     76,   Neg. LLF: 411.9685836920337\n",
      "Iteration:      9,   Func. Count:     84,   Neg. LLF: 411.93271902598485\n",
      "Iteration:     10,   Func. Count:     92,   Neg. LLF: 411.9145852056912\n",
      "Iteration:     11,   Func. Count:    100,   Neg. LLF: 411.9048739350483\n",
      "Iteration:     12,   Func. Count:    108,   Neg. LLF: 411.9045583172682\n",
      "Iteration:     13,   Func. Count:    116,   Neg. LLF: 411.90455127888055\n",
      "Optimization terminated successfully.    (Exit mode 0)\n",
      "            Current function value: 411.9045512788059\n",
      "            Iterations: 13\n",
      "            Function evaluations: 116\n",
      "            Gradient evaluations: 13\n",
      "                           Constant Mean - GARCH Model Results                           \n",
      "=========================================================================================\n",
      "Dep. Variable:                             Close   R-squared:                       0.000\n",
      "Mean Model:                        Constant Mean   Adj. R-squared:                  0.000\n",
      "Vol Model:                                 GARCH   Log-Likelihood:               -411.905\n",
      "Distribution:      Standardized Skew Student's t   AIC:                           835.809\n",
      "Method:                       Maximum Likelihood   BIC:                           866.642\n",
      "                                                   No. Observations:                 1260\n",
      "Date:                           Thu, Apr 14 2022   Df Residuals:                     1259\n",
      "Time:                                   16:20:46   Df Model:                            1\n",
      "                                  Mean Model                                  \n",
      "==============================================================================\n",
      "                  coef    std err          t      P>|t|       95.0% Conf. Int.\n",
      "------------------------------------------------------------------------------\n",
      "mu         -9.2472e-03  9.486e-03     -0.975      0.330 [-2.784e-02,9.345e-03]\n",
      "                               Volatility Model                              \n",
      "=============================================================================\n",
      "                 coef    std err          t      P>|t|       95.0% Conf. Int.\n",
      "-----------------------------------------------------------------------------\n",
      "omega          0.0316  1.673e-02      1.891  5.863e-02 [-1.154e-03,6.441e-02]\n",
      "alpha[1]       0.0969  3.816e-02      2.539  1.111e-02    [2.210e-02,  0.172]\n",
      "beta[1]        0.6312      0.165      3.825  1.308e-04      [  0.308,  0.955]\n",
      "                                 Distribution                                \n",
      "=============================================================================\n",
      "                 coef    std err          t      P>|t|       95.0% Conf. Int.\n",
      "-----------------------------------------------------------------------------\n",
      "eta            9.7314      3.264      2.982  2.868e-03      [  3.334, 16.128]\n",
      "lambda         0.0193  2.312e-02      0.834      0.404 [-2.604e-02,6.460e-02]\n",
      "=============================================================================\n",
      "\n",
      "Covariance estimator: robust\n"
     ]
    }
   ],
   "source": [
    "zyne_returns = 100 * (zyne[\"Close\"].pct_change().dropna())\n",
    "zyne_arch = arch_model(zyne_returns, dist=\"skewt\")\n",
    "zyne_res = zyne_arch.fit()\n",
    "print(zyne_res.summary())"
   ]
  },
  {
   "cell_type": "code",
   "execution_count": 91,
   "metadata": {},
   "outputs": [
    {
     "data": {
      "text/html": [
       "<div>\n",
       "<style scoped>\n",
       "    .dataframe tbody tr th:only-of-type {\n",
       "        vertical-align: middle;\n",
       "    }\n",
       "\n",
       "    .dataframe tbody tr th {\n",
       "        vertical-align: top;\n",
       "    }\n",
       "\n",
       "    .dataframe thead th {\n",
       "        text-align: right;\n",
       "    }\n",
       "</style>\n",
       "<table border=\"1\" class=\"dataframe\">\n",
       "  <thead>\n",
       "    <tr style=\"text-align: right;\">\n",
       "      <th></th>\n",
       "      <th>Open</th>\n",
       "      <th>High</th>\n",
       "      <th>Low</th>\n",
       "      <th>Close</th>\n",
       "      <th>Adj Close</th>\n",
       "      <th>Volume</th>\n",
       "    </tr>\n",
       "    <tr>\n",
       "      <th>Datetime</th>\n",
       "      <th></th>\n",
       "      <th></th>\n",
       "      <th></th>\n",
       "      <th></th>\n",
       "      <th></th>\n",
       "      <th></th>\n",
       "    </tr>\n",
       "  </thead>\n",
       "  <tbody>\n",
       "    <tr>\n",
       "      <th>2022-04-14 09:30:00-04:00</th>\n",
       "      <td>1.7800</td>\n",
       "      <td>1.7800</td>\n",
       "      <td>1.7700</td>\n",
       "      <td>1.7700</td>\n",
       "      <td>1.7700</td>\n",
       "      <td>3267</td>\n",
       "    </tr>\n",
       "    <tr>\n",
       "      <th>2022-04-14 09:36:00-04:00</th>\n",
       "      <td>1.7600</td>\n",
       "      <td>1.7700</td>\n",
       "      <td>1.7600</td>\n",
       "      <td>1.7600</td>\n",
       "      <td>1.7600</td>\n",
       "      <td>7380</td>\n",
       "    </tr>\n",
       "    <tr>\n",
       "      <th>2022-04-14 09:37:00-04:00</th>\n",
       "      <td>1.7600</td>\n",
       "      <td>1.7600</td>\n",
       "      <td>1.7500</td>\n",
       "      <td>1.7500</td>\n",
       "      <td>1.7500</td>\n",
       "      <td>2123</td>\n",
       "    </tr>\n",
       "    <tr>\n",
       "      <th>2022-04-14 09:38:00-04:00</th>\n",
       "      <td>1.7450</td>\n",
       "      <td>1.7500</td>\n",
       "      <td>1.7436</td>\n",
       "      <td>1.7436</td>\n",
       "      <td>1.7436</td>\n",
       "      <td>900</td>\n",
       "    </tr>\n",
       "    <tr>\n",
       "      <th>2022-04-14 09:39:00-04:00</th>\n",
       "      <td>1.7500</td>\n",
       "      <td>1.7500</td>\n",
       "      <td>1.7500</td>\n",
       "      <td>1.7500</td>\n",
       "      <td>1.7500</td>\n",
       "      <td>1300</td>\n",
       "    </tr>\n",
       "    <tr>\n",
       "      <th>...</th>\n",
       "      <td>...</td>\n",
       "      <td>...</td>\n",
       "      <td>...</td>\n",
       "      <td>...</td>\n",
       "      <td>...</td>\n",
       "      <td>...</td>\n",
       "    </tr>\n",
       "    <tr>\n",
       "      <th>2022-04-14 15:56:00-04:00</th>\n",
       "      <td>1.7210</td>\n",
       "      <td>1.7210</td>\n",
       "      <td>1.7200</td>\n",
       "      <td>1.7200</td>\n",
       "      <td>1.7200</td>\n",
       "      <td>910</td>\n",
       "    </tr>\n",
       "    <tr>\n",
       "      <th>2022-04-14 15:57:00-04:00</th>\n",
       "      <td>1.7285</td>\n",
       "      <td>1.7285</td>\n",
       "      <td>1.7285</td>\n",
       "      <td>1.7285</td>\n",
       "      <td>1.7285</td>\n",
       "      <td>158</td>\n",
       "    </tr>\n",
       "    <tr>\n",
       "      <th>2022-04-14 15:58:00-04:00</th>\n",
       "      <td>1.7200</td>\n",
       "      <td>1.7250</td>\n",
       "      <td>1.7200</td>\n",
       "      <td>1.7250</td>\n",
       "      <td>1.7250</td>\n",
       "      <td>1541</td>\n",
       "    </tr>\n",
       "    <tr>\n",
       "      <th>2022-04-14 15:59:00-04:00</th>\n",
       "      <td>1.7200</td>\n",
       "      <td>1.7200</td>\n",
       "      <td>1.7100</td>\n",
       "      <td>1.7200</td>\n",
       "      <td>1.7200</td>\n",
       "      <td>9748</td>\n",
       "    </tr>\n",
       "    <tr>\n",
       "      <th>2022-04-14 16:00:00-04:00</th>\n",
       "      <td>1.7100</td>\n",
       "      <td>1.7100</td>\n",
       "      <td>1.7100</td>\n",
       "      <td>1.7100</td>\n",
       "      <td>1.7100</td>\n",
       "      <td>0</td>\n",
       "    </tr>\n",
       "  </tbody>\n",
       "</table>\n",
       "<p>117 rows × 6 columns</p>\n",
       "</div>"
      ],
      "text/plain": [
       "                             Open    High     Low   Close  Adj Close  Volume\n",
       "Datetime                                                                    \n",
       "2022-04-14 09:30:00-04:00  1.7800  1.7800  1.7700  1.7700     1.7700    3267\n",
       "2022-04-14 09:36:00-04:00  1.7600  1.7700  1.7600  1.7600     1.7600    7380\n",
       "2022-04-14 09:37:00-04:00  1.7600  1.7600  1.7500  1.7500     1.7500    2123\n",
       "2022-04-14 09:38:00-04:00  1.7450  1.7500  1.7436  1.7436     1.7436     900\n",
       "2022-04-14 09:39:00-04:00  1.7500  1.7500  1.7500  1.7500     1.7500    1300\n",
       "...                           ...     ...     ...     ...        ...     ...\n",
       "2022-04-14 15:56:00-04:00  1.7210  1.7210  1.7200  1.7200     1.7200     910\n",
       "2022-04-14 15:57:00-04:00  1.7285  1.7285  1.7285  1.7285     1.7285     158\n",
       "2022-04-14 15:58:00-04:00  1.7200  1.7250  1.7200  1.7250     1.7250    1541\n",
       "2022-04-14 15:59:00-04:00  1.7200  1.7200  1.7100  1.7200     1.7200    9748\n",
       "2022-04-14 16:00:00-04:00  1.7100  1.7100  1.7100  1.7100     1.7100       0\n",
       "\n",
       "[117 rows x 6 columns]"
      ]
     },
     "execution_count": 91,
     "metadata": {},
     "output_type": "execute_result"
    }
   ],
   "source": [
    "zyne[-117:]"
   ]
  },
  {
   "cell_type": "code",
   "execution_count": 93,
   "metadata": {},
   "outputs": [
    {
     "data": {
      "image/png": "[encoded data removed]",
      "text/plain": [
       "<Figure size 432x288 with 2 Axes>"
      ]
     },
     "metadata": {
      "needs_background": "light"
     },
     "output_type": "display_data"
    }
   ],
   "source": [
    "fig = zyne_res.plot(scale=252*120)"
   ]
  },
  {
   "cell_type": "code",
   "execution_count": 64,
   "metadata": {},
   "outputs": [
    {
     "name": "stdout",
     "output_type": "stream",
     "text": [
      "                                h.1\n",
      "Datetime                           \n",
      "2022-04-14 16:00:00-04:00 -0.009247\n",
      "                                h.1\n",
      "Datetime                           \n",
      "2022-04-14 16:00:00-04:00  0.136057\n",
      "                                h.1\n",
      "Datetime                           \n",
      "2022-04-14 16:00:00-04:00  0.136057\n"
     ]
    }
   ],
   "source": [
    "zyne_forecasts = zyne_res.forecast(reindex=False)\n",
    "print(zyne_forecasts.mean.iloc[-3:])\n",
    "print(zyne_forecasts.residual_variance.iloc[-3:])\n",
    "print(zyne_forecasts.variance.iloc[-3:])"
   ]
  },
  {
   "cell_type": "code",
   "execution_count": 106,
   "metadata": {},
   "outputs": [
    {
     "data": {
      "text/plain": [
       "0.1360568071383528"
      ]
     },
     "execution_count": 106,
     "metadata": {},
     "output_type": "execute_result"
    }
   ],
   "source": [
    "zyne_forecasts.variance[\"h.1\"][0]"
   ]
  },
  {
   "cell_type": "code",
   "execution_count": 65,
   "metadata": {},
   "outputs": [
    {
     "data": {
      "text/plain": [
       "0.3688590516715023"
      ]
     },
     "execution_count": 65,
     "metadata": {},
     "output_type": "execute_result"
    }
   ],
   "source": [
    "np.sqrt(0.136057)"
   ]
  },
  {
   "cell_type": "code",
   "execution_count": 129,
   "metadata": {},
   "outputs": [],
   "source": [
    "def next_min_bound(ticker, st_devs):\n",
    "    today = datetime.datetime.now()\n",
    "    four = (today - datetime.timedelta(days = 28)).date().strftime(\"%Y-%m-%d\")\n",
    "    three = (today - datetime.timedelta(days = 21)).date().strftime(\"%Y-%m-%d\")\n",
    "    two = (today - datetime.timedelta(days = 14)).date().strftime(\"%Y-%m-%d\")\n",
    "    one = (today - datetime.timedelta(days = 7)).date().strftime(\"%Y-%m-%d\")\n",
    "    t43 = yf.download(tickers=ticker, start=four, end=three, interval=\"1m\")\n",
    "    t32 = yf.download(tickers=ticker, start=three, end=two, interval=\"1m\")\n",
    "    t21 = yf.download(tickers=ticker, start=two, end=one, interval=\"1m\")\n",
    "    t10 = yf.download(tickers=ticker, period=\"7d\", interval=\"1m\")\n",
    "    ticker = pd.concat([t43, t32, t21, t10])\n",
    "    adf = ADF(ticker[\"Close\"])\n",
    "    print(adf.summary().as_text())\n",
    "    returns = 100 * (ticker[\"Close\"].pct_change().dropna())\n",
    "    arch = arch_model(returns, dist=\"skewt\")\n",
    "    result = arch.fit()\n",
    "    print(result.summary())\n",
    "    var = result.forecast(reindex=False).variance[\"h.1\"][0]\n",
    "    return np.sqrt(var)*st_devs"
   ]
  },
  {
   "cell_type": "code",
   "execution_count": 130,
   "metadata": {},
   "outputs": [
    {
     "name": "stdout",
     "output_type": "stream",
     "text": [
      "[*********************100%***********************]  1 of 1 completed\n",
      "[*********************100%***********************]  1 of 1 completed\n",
      "[*********************100%***********************]  1 of 1 completed\n",
      "[*********************100%***********************]  1 of 1 completed\n",
      "   Augmented Dickey-Fuller Results   \n",
      "=====================================\n",
      "Test Statistic                 -0.509\n",
      "P-value                         0.890\n",
      "Lags                                7\n",
      "-------------------------------------\n",
      "\n",
      "Trend: Constant\n",
      "Critical Values: -3.43 (1%), -2.86 (5%), -2.57 (10%)\n",
      "Null Hypothesis: The process contains a unit root.\n",
      "Alternative Hypothesis: The process is weakly stationary.\n",
      "Iteration:      1,   Func. Count:      8,   Neg. LLF: 1138.042993353717\n",
      "Iteration:      2,   Func. Count:     22,   Neg. LLF: 1137.401740036748\n",
      "Iteration:      3,   Func. Count:     32,   Neg. LLF: 1112.549144281134\n",
      "Iteration:      4,   Func. Count:     41,   Neg. LLF: 1106.0122992857227\n",
      "Iteration:      5,   Func. Count:     50,   Neg. LLF: 1097.1164816363205\n",
      "Iteration:      6,   Func. Count:     60,   Neg. LLF: 1096.2255076297376\n",
      "Iteration:      7,   Func. Count:     69,   Neg. LLF: 1094.2281416061674\n",
      "Iteration:      8,   Func. Count:     79,   Neg. LLF: 1092.6963184092128\n",
      "Iteration:      9,   Func. Count:     88,   Neg. LLF: 1092.1323322486492\n",
      "Iteration:     10,   Func. Count:     97,   Neg. LLF: 1091.074588506242\n",
      "Iteration:     11,   Func. Count:    106,   Neg. LLF: 1090.7923634218623\n",
      "Iteration:     12,   Func. Count:    115,   Neg. LLF: 1090.4611771958018\n",
      "Iteration:     13,   Func. Count:    123,   Neg. LLF: 1090.3682774533759\n",
      "Iteration:     14,   Func. Count:    131,   Neg. LLF: 1090.3541923435541\n",
      "Iteration:     15,   Func. Count:    139,   Neg. LLF: 1090.3527199173109\n",
      "Iteration:     16,   Func. Count:    147,   Neg. LLF: 1090.352617389518\n",
      "Iteration:     17,   Func. Count:    155,   Neg. LLF: 1090.3526139145856\n",
      "Optimization terminated successfully.    (Exit mode 0)\n",
      "            Current function value: 1090.3526139144994\n",
      "            Iterations: 17\n",
      "            Function evaluations: 155\n",
      "            Gradient evaluations: 17\n",
      "                           Constant Mean - GARCH Model Results                           \n",
      "=========================================================================================\n",
      "Dep. Variable:                             Close   R-squared:                       0.000\n",
      "Mean Model:                        Constant Mean   Adj. R-squared:                  0.000\n",
      "Vol Model:                                 GARCH   Log-Likelihood:               -1090.35\n",
      "Distribution:      Standardized Skew Student's t   AIC:                           2192.71\n",
      "Method:                       Maximum Likelihood   BIC:                           2231.01\n",
      "                                                   No. Observations:                 4377\n",
      "Date:                           Thu, Apr 14 2022   Df Residuals:                     4376\n",
      "Time:                                   17:45:57   Df Model:                            1\n",
      "                                  Mean Model                                  \n",
      "==============================================================================\n",
      "                  coef    std err          t      P>|t|       95.0% Conf. Int.\n",
      "------------------------------------------------------------------------------\n",
      "mu         -5.6329e-03  4.642e-03     -1.213      0.225 [-1.473e-02,3.466e-03]\n",
      "                              Volatility Model                              \n",
      "============================================================================\n",
      "                 coef    std err          t      P>|t|      95.0% Conf. Int.\n",
      "----------------------------------------------------------------------------\n",
      "omega          0.0283  6.409e-03      4.417  1.003e-05 [1.574e-02,4.087e-02]\n",
      "alpha[1]       0.2140  4.010e-02      5.336  9.503e-08     [  0.135,  0.293]\n",
      "beta[1]        0.5829  6.191e-02      9.415  4.710e-21     [  0.462,  0.704]\n",
      "                                 Distribution                                 \n",
      "==============================================================================\n",
      "                  coef    std err          t      P>|t|       95.0% Conf. Int.\n",
      "------------------------------------------------------------------------------\n",
      "eta             3.8797      0.426      9.102  8.854e-20      [  3.044,  4.715]\n",
      "lambda     -5.6774e-03  9.375e-03     -0.606      0.545 [-2.405e-02,1.270e-02]\n",
      "==============================================================================\n",
      "\n",
      "Covariance estimator: robust\n"
     ]
    },
    {
     "data": {
      "text/plain": [
       "0.41321495480547443"
      ]
     },
     "execution_count": 130,
     "metadata": {},
     "output_type": "execute_result"
    }
   ],
   "source": [
    "next_min_bound(\"ZYNE\", 1)"
   ]
  },
  {
   "cell_type": "code",
   "execution_count": 132,
   "metadata": {},
   "outputs": [
    {
     "name": "stdout",
     "output_type": "stream",
     "text": [
      "[*********************100%***********************]  1 of 1 completed\n"
     ]
    },
    {
     "data": {
      "text/plain": [
       "(-3.080569259121272,\n",
       " 0.028024969315715315,\n",
       " 1,\n",
       " 322,\n",
       " {'1%': -3.4508226600665037,\n",
       "  '5%': -2.870558121868621,\n",
       "  '10%': -2.571574731684734},\n",
       " 1564.214816997626)"
      ]
     },
     "execution_count": 132,
     "metadata": {},
     "output_type": "execute_result"
    }
   ],
   "source": [
    "from statsmodels.tsa.stattools import adfuller\n",
    "txn_data = yf.download(\"TXN\", start='2021-01-01')\n",
    "adfuller(txn_data[\"Close\"])"
   ]
  }
 ],
 "metadata": {
  "kernelspec": {
   "display_name": "Python 3",
   "language": "python",
   "name": "python3"
  },
  "language_info": {
   "codemirror_mode": {
    "name": "ipython",
    "version": 3
   },
   "file_extension": ".py",
   "mimetype": "text/x-python",
   "name": "python",
   "nbconvert_exporter": "python",
   "pygments_lexer": "ipython3",
   "version": "3.7.4"
  }
 },
 "nbformat": 4,
 "nbformat_minor": 2
}

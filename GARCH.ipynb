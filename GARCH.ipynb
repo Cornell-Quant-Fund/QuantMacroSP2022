{
 "cells": [
  {
   "cell_type": "code",
   "execution_count": 1,
   "metadata": {},
   "outputs": [],
   "source": [
    "import pandas as pd\n",
    "import numpy as np\n",
    "import yfinance as yf\n",
    "import arch\n",
    "from arch.unitroot import ADF\n",
    "from arch import arch_model\n",
    "import matplotlib.pyplot as plt\n",
    "import datetime"
   ]
  },
  {
   "cell_type": "code",
   "execution_count": 2,
   "metadata": {},
   "outputs": [
    {
     "name": "stdout",
     "output_type": "stream",
     "text": [
      "[*********************100%***********************]  1 of 1 completed\n",
      "[*********************100%***********************]  1 of 1 completed\n"
     ]
    }
   ],
   "source": [
    "seel = yf.download(tickers=\"SEEL\", period=\"7d\", interval=\"1m\")\n",
    "zyne = yf.download(tickers=\"ZYNE\", period=\"7d\", interval=\"1m\")"
   ]
  },
  {
   "cell_type": "code",
   "execution_count": 3,
   "metadata": {},
   "outputs": [
    {
     "name": "stdout",
     "output_type": "stream",
     "text": [
      "   Augmented Dickey-Fuller Results   \n",
      "=====================================\n",
      "Test Statistic                 -1.139\n",
      "P-value                         0.699\n",
      "Lags                               25\n",
      "-------------------------------------\n",
      "\n",
      "Trend: Constant\n",
      "Critical Values: -3.43 (1%), -2.86 (5%), -2.57 (10%)\n",
      "Null Hypothesis: The process contains a unit root.\n",
      "Alternative Hypothesis: The process is weakly stationary.\n"
     ]
    }
   ],
   "source": [
    "seel_adf = ADF(seel[\"Close\"])\n",
    "print(seel_adf.summary().as_text())"
   ]
  },
  {
   "cell_type": "code",
   "execution_count": 4,
   "metadata": {},
   "outputs": [
    {
     "name": "stdout",
     "output_type": "stream",
     "text": [
      "   Augmented Dickey-Fuller Results   \n",
      "=====================================\n",
      "Test Statistic                 -1.950\n",
      "P-value                         0.309\n",
      "Lags                                1\n",
      "-------------------------------------\n",
      "\n",
      "Trend: Constant\n",
      "Critical Values: -3.44 (1%), -2.86 (5%), -2.57 (10%)\n",
      "Null Hypothesis: The process contains a unit root.\n",
      "Alternative Hypothesis: The process is weakly stationary.\n"
     ]
    }
   ],
   "source": [
    "zyne_adf = ADF(zyne[\"Close\"])\n",
    "print(zyne_adf.summary().as_text())"
   ]
  },
  {
   "cell_type": "code",
   "execution_count": 5,
   "metadata": {},
   "outputs": [
    {
     "name": "stdout",
     "output_type": "stream",
     "text": [
      "Iteration:      1,   Func. Count:      8,   Neg. LLF: 412.25060912046354\n",
      "Iteration:      2,   Func. Count:     18,   Neg. LLF: 412.2152827223017\n",
      "Iteration:      3,   Func. Count:     29,   Neg. LLF: 412.1765534570088\n",
      "Iteration:      4,   Func. Count:     39,   Neg. LLF: 412.10377959838297\n",
      "Iteration:      5,   Func. Count:     48,   Neg. LLF: 412.06137308880886\n",
      "Iteration:      6,   Func. Count:     57,   Neg. LLF: 412.0037286793126\n",
      "Iteration:      7,   Func. Count:     67,   Neg. LLF: 411.97997038753874\n",
      "Iteration:      8,   Func. Count:     76,   Neg. LLF: 411.9685836920337\n",
      "Iteration:      9,   Func. Count:     84,   Neg. LLF: 411.93271902598485\n",
      "Iteration:     10,   Func. Count:     92,   Neg. LLF: 411.9145852056912\n",
      "Iteration:     11,   Func. Count:    100,   Neg. LLF: 411.9048739350483\n",
      "Iteration:     12,   Func. Count:    108,   Neg. LLF: 411.9045583172682\n",
      "Iteration:     13,   Func. Count:    116,   Neg. LLF: 411.90455127888055\n",
      "Optimization terminated successfully.    (Exit mode 0)\n",
      "            Current function value: 411.9045512788059\n",
      "            Iterations: 13\n",
      "            Function evaluations: 116\n",
      "            Gradient evaluations: 13\n",
      "                           Constant Mean - GARCH Model Results                           \n",
      "=========================================================================================\n",
      "Dep. Variable:                             Close   R-squared:                       0.000\n",
      "Mean Model:                        Constant Mean   Adj. R-squared:                  0.000\n",
      "Vol Model:                                 GARCH   Log-Likelihood:               -411.905\n",
      "Distribution:      Standardized Skew Student's t   AIC:                           835.809\n",
      "Method:                       Maximum Likelihood   BIC:                           866.642\n",
      "                                                   No. Observations:                 1260\n",
      "Date:                           Fri, Apr 15 2022   Df Residuals:                     1259\n",
      "Time:                                   19:35:44   Df Model:                            1\n",
      "                                  Mean Model                                  \n",
      "==============================================================================\n",
      "                  coef    std err          t      P>|t|       95.0% Conf. Int.\n",
      "------------------------------------------------------------------------------\n",
      "mu         -9.2472e-03  9.486e-03     -0.975      0.330 [-2.784e-02,9.345e-03]\n",
      "                               Volatility Model                              \n",
      "=============================================================================\n",
      "                 coef    std err          t      P>|t|       95.0% Conf. Int.\n",
      "-----------------------------------------------------------------------------\n",
      "omega          0.0316  1.673e-02      1.891  5.863e-02 [-1.154e-03,6.441e-02]\n",
      "alpha[1]       0.0969  3.816e-02      2.539  1.111e-02    [2.210e-02,  0.172]\n",
      "beta[1]        0.6312      0.165      3.825  1.308e-04      [  0.308,  0.955]\n",
      "                                 Distribution                                \n",
      "=============================================================================\n",
      "                 coef    std err          t      P>|t|       95.0% Conf. Int.\n",
      "-----------------------------------------------------------------------------\n",
      "eta            9.7314      3.264      2.982  2.868e-03      [  3.334, 16.128]\n",
      "lambda         0.0193  2.312e-02      0.834      0.404 [-2.604e-02,6.460e-02]\n",
      "=============================================================================\n",
      "\n",
      "Covariance estimator: robust\n"
     ]
    }
   ],
   "source": [
    "zyne_returns = 100 * (zyne[\"Close\"].pct_change().dropna())\n",
    "zyne_arch = arch_model(zyne_returns, dist=\"skewt\")\n",
    "zyne_res = zyne_arch.fit()\n",
    "print(zyne_res.summary())"
   ]
  },
  {
   "cell_type": "code",
   "execution_count": 6,
   "metadata": {},
   "outputs": [
    {
     "data": {
      "text/html": [
       "<div>\n",
       "<style scoped>\n",
       "    .dataframe tbody tr th:only-of-type {\n",
       "        vertical-align: middle;\n",
       "    }\n",
       "\n",
       "    .dataframe tbody tr th {\n",
       "        vertical-align: top;\n",
       "    }\n",
       "\n",
       "    .dataframe thead th {\n",
       "        text-align: right;\n",
       "    }\n",
       "</style>\n",
       "<table border=\"1\" class=\"dataframe\">\n",
       "  <thead>\n",
       "    <tr style=\"text-align: right;\">\n",
       "      <th></th>\n",
       "      <th>Open</th>\n",
       "      <th>High</th>\n",
       "      <th>Low</th>\n",
       "      <th>Close</th>\n",
       "      <th>Adj Close</th>\n",
       "      <th>Volume</th>\n",
       "    </tr>\n",
       "    <tr>\n",
       "      <th>Datetime</th>\n",
       "      <th></th>\n",
       "      <th></th>\n",
       "      <th></th>\n",
       "      <th></th>\n",
       "      <th></th>\n",
       "      <th></th>\n",
       "    </tr>\n",
       "  </thead>\n",
       "  <tbody>\n",
       "    <tr>\n",
       "      <th>2022-04-14 09:30:00-04:00</th>\n",
       "      <td>1.7800</td>\n",
       "      <td>1.7800</td>\n",
       "      <td>1.7700</td>\n",
       "      <td>1.7700</td>\n",
       "      <td>1.7700</td>\n",
       "      <td>3267</td>\n",
       "    </tr>\n",
       "    <tr>\n",
       "      <th>2022-04-14 09:36:00-04:00</th>\n",
       "      <td>1.7600</td>\n",
       "      <td>1.7700</td>\n",
       "      <td>1.7600</td>\n",
       "      <td>1.7600</td>\n",
       "      <td>1.7600</td>\n",
       "      <td>7380</td>\n",
       "    </tr>\n",
       "    <tr>\n",
       "      <th>2022-04-14 09:37:00-04:00</th>\n",
       "      <td>1.7600</td>\n",
       "      <td>1.7600</td>\n",
       "      <td>1.7500</td>\n",
       "      <td>1.7500</td>\n",
       "      <td>1.7500</td>\n",
       "      <td>2123</td>\n",
       "    </tr>\n",
       "    <tr>\n",
       "      <th>2022-04-14 09:38:00-04:00</th>\n",
       "      <td>1.7450</td>\n",
       "      <td>1.7500</td>\n",
       "      <td>1.7436</td>\n",
       "      <td>1.7436</td>\n",
       "      <td>1.7436</td>\n",
       "      <td>900</td>\n",
       "    </tr>\n",
       "    <tr>\n",
       "      <th>2022-04-14 09:39:00-04:00</th>\n",
       "      <td>1.7500</td>\n",
       "      <td>1.7500</td>\n",
       "      <td>1.7500</td>\n",
       "      <td>1.7500</td>\n",
       "      <td>1.7500</td>\n",
       "      <td>1300</td>\n",
       "    </tr>\n",
       "    <tr>\n",
       "      <th>...</th>\n",
       "      <td>...</td>\n",
       "      <td>...</td>\n",
       "      <td>...</td>\n",
       "      <td>...</td>\n",
       "      <td>...</td>\n",
       "      <td>...</td>\n",
       "    </tr>\n",
       "    <tr>\n",
       "      <th>2022-04-14 15:56:00-04:00</th>\n",
       "      <td>1.7210</td>\n",
       "      <td>1.7210</td>\n",
       "      <td>1.7200</td>\n",
       "      <td>1.7200</td>\n",
       "      <td>1.7200</td>\n",
       "      <td>910</td>\n",
       "    </tr>\n",
       "    <tr>\n",
       "      <th>2022-04-14 15:57:00-04:00</th>\n",
       "      <td>1.7285</td>\n",
       "      <td>1.7285</td>\n",
       "      <td>1.7285</td>\n",
       "      <td>1.7285</td>\n",
       "      <td>1.7285</td>\n",
       "      <td>158</td>\n",
       "    </tr>\n",
       "    <tr>\n",
       "      <th>2022-04-14 15:58:00-04:00</th>\n",
       "      <td>1.7200</td>\n",
       "      <td>1.7250</td>\n",
       "      <td>1.7200</td>\n",
       "      <td>1.7250</td>\n",
       "      <td>1.7250</td>\n",
       "      <td>1541</td>\n",
       "    </tr>\n",
       "    <tr>\n",
       "      <th>2022-04-14 15:59:00-04:00</th>\n",
       "      <td>1.7200</td>\n",
       "      <td>1.7200</td>\n",
       "      <td>1.7100</td>\n",
       "      <td>1.7200</td>\n",
       "      <td>1.7200</td>\n",
       "      <td>9748</td>\n",
       "    </tr>\n",
       "    <tr>\n",
       "      <th>2022-04-14 16:00:00-04:00</th>\n",
       "      <td>1.7100</td>\n",
       "      <td>1.7100</td>\n",
       "      <td>1.7100</td>\n",
       "      <td>1.7100</td>\n",
       "      <td>1.7100</td>\n",
       "      <td>0</td>\n",
       "    </tr>\n",
       "  </tbody>\n",
       "</table>\n",
       "<p>117 rows × 6 columns</p>\n",
       "</div>"
      ],
      "text/plain": [
       "                             Open    High     Low   Close  Adj Close  Volume\n",
       "Datetime                                                                    \n",
       "2022-04-14 09:30:00-04:00  1.7800  1.7800  1.7700  1.7700     1.7700    3267\n",
       "2022-04-14 09:36:00-04:00  1.7600  1.7700  1.7600  1.7600     1.7600    7380\n",
       "2022-04-14 09:37:00-04:00  1.7600  1.7600  1.7500  1.7500     1.7500    2123\n",
       "2022-04-14 09:38:00-04:00  1.7450  1.7500  1.7436  1.7436     1.7436     900\n",
       "2022-04-14 09:39:00-04:00  1.7500  1.7500  1.7500  1.7500     1.7500    1300\n",
       "...                           ...     ...     ...     ...        ...     ...\n",
       "2022-04-14 15:56:00-04:00  1.7210  1.7210  1.7200  1.7200     1.7200     910\n",
       "2022-04-14 15:57:00-04:00  1.7285  1.7285  1.7285  1.7285     1.7285     158\n",
       "2022-04-14 15:58:00-04:00  1.7200  1.7250  1.7200  1.7250     1.7250    1541\n",
       "2022-04-14 15:59:00-04:00  1.7200  1.7200  1.7100  1.7200     1.7200    9748\n",
       "2022-04-14 16:00:00-04:00  1.7100  1.7100  1.7100  1.7100     1.7100       0\n",
       "\n",
       "[117 rows x 6 columns]"
      ]
     },
     "execution_count": 6,
     "metadata": {},
     "output_type": "execute_result"
    }
   ],
   "source": [
    "zyne[-117:]"
   ]
  },
  {
   "cell_type": "code",
   "execution_count": 7,
   "metadata": {},
   "outputs": [
    {
     "name": "stderr",
     "output_type": "stream",
     "text": [
      "C:\\Users\\Michael\\Anaconda3\\lib\\site-packages\\matplotlib\\cbook\\__init__.py:1402: FutureWarning: Support for multi-dimensional indexing (e.g. `obj[:, None]`) is deprecated and will be removed in a future version.  Convert to a numpy array before indexing instead.\n",
      "  x[:, None]\n",
      "C:\\Users\\Michael\\Anaconda3\\lib\\site-packages\\matplotlib\\axes\\_base.py:278: FutureWarning: Support for multi-dimensional indexing (e.g. `obj[:, None]`) is deprecated and will be removed in a future version.  Convert to a numpy array before indexing instead.\n",
      "  y = y[:, np.newaxis]\n"
     ]
    },
    {
     "data": {
      "image/png": "[encoded data removed]",
      "text/plain": [
       "<Figure size 432x288 with 2 Axes>"
      ]
     },
     "metadata": {
      "needs_background": "light"
     },
     "output_type": "display_data"
    }
   ],
   "source": [
    "fig = zyne_res.plot(scale=252*120)"
   ]
  },
  {
   "cell_type": "code",
   "execution_count": 8,
   "metadata": {},
   "outputs": [
    {
     "data": {
      "text/plain": [
       "Datetime\n",
       "2022-04-06 09:31:00-04:00    0.561956\n",
       "2022-04-06 09:34:00-04:00    0.682392\n",
       "2022-04-06 09:36:00-04:00    0.733078\n",
       "2022-04-06 09:37:00-04:00    0.625374\n",
       "2022-04-06 09:38:00-04:00    0.544945\n",
       "                               ...   \n",
       "2022-04-14 15:56:00-04:00    0.382636\n",
       "2022-04-14 15:57:00-04:00    0.352803\n",
       "2022-04-14 15:58:00-04:00    0.367084\n",
       "2022-04-14 15:59:00-04:00    0.346847\n",
       "2022-04-14 16:00:00-04:00    0.339403\n",
       "Name: cond_vol, Length: 1260, dtype: float64"
      ]
     },
     "execution_count": 8,
     "metadata": {},
     "output_type": "execute_result"
    }
   ],
   "source": [
    "zyne_res.conditional_volatility"
   ]
  },
  {
   "cell_type": "code",
   "execution_count": 9,
   "metadata": {},
   "outputs": [
    {
     "name": "stdout",
     "output_type": "stream",
     "text": [
      "                                h.1\n",
      "Datetime                           \n",
      "2022-04-14 16:00:00-04:00 -0.009247\n",
      "                                h.1\n",
      "Datetime                           \n",
      "2022-04-14 16:00:00-04:00  0.136057\n",
      "                                h.1\n",
      "Datetime                           \n",
      "2022-04-14 16:00:00-04:00  0.136057\n"
     ]
    }
   ],
   "source": [
    "zyne_forecasts = zyne_res.forecast(reindex=False)\n",
    "print(zyne_forecasts.mean.iloc[-3:])\n",
    "print(zyne_forecasts.residual_variance.iloc[-3:])\n",
    "print(zyne_forecasts.variance.iloc[-3:])"
   ]
  },
  {
   "cell_type": "code",
   "execution_count": 10,
   "metadata": {},
   "outputs": [
    {
     "data": {
      "text/plain": [
       "0.1360568071383528"
      ]
     },
     "execution_count": 10,
     "metadata": {},
     "output_type": "execute_result"
    }
   ],
   "source": [
    "zyne_forecasts.variance[\"h.1\"][0]"
   ]
  },
  {
   "cell_type": "code",
   "execution_count": 11,
   "metadata": {},
   "outputs": [
    {
     "data": {
      "text/plain": [
       "0.3688590516715023"
      ]
     },
     "execution_count": 11,
     "metadata": {},
     "output_type": "execute_result"
    }
   ],
   "source": [
    "np.sqrt(0.136057)"
   ]
  },
  {
   "cell_type": "code",
   "execution_count": 12,
   "metadata": {},
   "outputs": [],
   "source": [
    "def next_min_bound(ticker, st_devs):\n",
    "    today = datetime.datetime.now()\n",
    "    four = (today - datetime.timedelta(days = 28)).date().strftime(\"%Y-%m-%d\")\n",
    "    three = (today - datetime.timedelta(days = 21)).date().strftime(\"%Y-%m-%d\")\n",
    "    two = (today - datetime.timedelta(days = 14)).date().strftime(\"%Y-%m-%d\")\n",
    "    one = (today - datetime.timedelta(days = 7)).date().strftime(\"%Y-%m-%d\")\n",
    "    t43 = yf.download(tickers=ticker, start=four, end=three, interval=\"1m\")\n",
    "    t32 = yf.download(tickers=ticker, start=three, end=two, interval=\"1m\")\n",
    "    t21 = yf.download(tickers=ticker, start=two, end=one, interval=\"1m\")\n",
    "    t10 = yf.download(tickers=ticker, period=\"7d\", interval=\"1m\")\n",
    "    ticker = pd.concat([t43, t32, t21, t10])\n",
    "    adf = ADF(ticker[\"Close\"])\n",
    "    print(adf.summary().as_text())\n",
    "    returns = 100 * (ticker[\"Close\"].pct_change().dropna())\n",
    "    arch = arch_model(returns, dist=\"skewt\")\n",
    "    result = arch.fit()\n",
    "    print(result.summary())\n",
    "    print(result.conditional_volatility)\n",
    "    var = result.forecast(reindex=False).variance[\"h.1\"][0]\n",
    "    return np.sqrt(var)*st_devs"
   ]
  },
  {
   "cell_type": "code",
   "execution_count": 13,
   "metadata": {},
   "outputs": [
    {
     "name": "stdout",
     "output_type": "stream",
     "text": [
      "[*********************100%***********************]  1 of 1 completed\n",
      "[*********************100%***********************]  1 of 1 completed\n",
      "[*********************100%***********************]  1 of 1 completed\n",
      "[*********************100%***********************]  1 of 1 completed\n",
      "   Augmented Dickey-Fuller Results   \n",
      "=====================================\n",
      "Test Statistic                 -2.835\n",
      "P-value                         0.053\n",
      "Lags                                3\n",
      "-------------------------------------\n",
      "\n",
      "Trend: Constant\n",
      "Critical Values: -3.43 (1%), -2.86 (5%), -2.57 (10%)\n",
      "Null Hypothesis: The process contains a unit root.\n",
      "Alternative Hypothesis: The process is weakly stationary.\n",
      "Iteration:      1,   Func. Count:      8,   Neg. LLF: -1858.7130272401948\n",
      "Iteration:      2,   Func. Count:     21,   Neg. LLF: -1858.733148367782\n",
      "Iteration:      3,   Func. Count:     30,   Neg. LLF: -2104.3366196898414\n",
      "Iteration:      4,   Func. Count:     39,   Neg. LLF: -2227.827891699848\n"
     ]
    },
    {
     "name": "stderr",
     "output_type": "stream",
     "text": [
      "C:\\Users\\Michael\\AppData\\Roaming\\Python\\Python37\\site-packages\\arch\\univariate\\base.py:310: DataScaleWarning: y is poorly scaled, which may affect convergence of the optimizer when\n",
      "estimating the model parameters. The scale of y is 0.09875. Parameter\n",
      "estimation work better when this value is between 1 and 1000. The recommended\n",
      "rescaling is 10 * y.\n",
      "\n",
      "This warning can be disabled by either rescaling y before initializing the\n",
      "model or by setting rescale=False.\n",
      "\n",
      "  data_scale_warning.format(orig_scale, rescale), DataScaleWarning\n"
     ]
    },
    {
     "name": "stdout",
     "output_type": "stream",
     "text": [
      "Iteration:      5,   Func. Count:     48,   Neg. LLF: -2295.998230705307\n",
      "Iteration:      6,   Func. Count:     57,   Neg. LLF: -2330.040852038872\n",
      "Iteration:      7,   Func. Count:     66,   Neg. LLF: -2354.5424059236293\n",
      "Iteration:      8,   Func. Count:     75,   Neg. LLF: -2369.5212870293835\n",
      "Iteration:      9,   Func. Count:     84,   Neg. LLF: -2382.975497436284\n",
      "Iteration:     10,   Func. Count:     93,   Neg. LLF: -2394.2830831257597\n",
      "Iteration:     11,   Func. Count:    102,   Neg. LLF: -2408.127472949006\n",
      "Iteration:     12,   Func. Count:    111,   Neg. LLF: -2420.0403087854725\n",
      "Iteration:     13,   Func. Count:    120,   Neg. LLF: -2434.2704046426043\n",
      "Iteration:     14,   Func. Count:    129,   Neg. LLF: -2447.543307813087\n",
      "Iteration:     15,   Func. Count:    138,   Neg. LLF: -2463.9241173161886\n",
      "Iteration:     16,   Func. Count:    147,   Neg. LLF: -2481.3342174152867\n",
      "Iteration:     17,   Func. Count:    156,   Neg. LLF: -2491.9280029861566\n",
      "Iteration:     18,   Func. Count:    165,   Neg. LLF: -2504.1546373202164\n",
      "Iteration:     19,   Func. Count:    175,   Neg. LLF: -2505.0458672944596\n",
      "Iteration:     20,   Func. Count:    184,   Neg. LLF: -2521.6977569956593\n",
      "Iteration:     21,   Func. Count:    193,   Neg. LLF: -2525.4615458971466\n",
      "Iteration:     22,   Func. Count:    203,   Neg. LLF: -2532.438871396245\n",
      "Iteration:     23,   Func. Count:    212,   Neg. LLF: -2535.8457958122744\n",
      "Iteration:     24,   Func. Count:    221,   Neg. LLF: -2538.2286356148693\n",
      "Iteration:     25,   Func. Count:    230,   Neg. LLF: -2540.3321579357334\n",
      "Iteration:     26,   Func. Count:    239,   Neg. LLF: -2541.8273285009655\n",
      "Iteration:     27,   Func. Count:    248,   Neg. LLF: -2542.0679417221772\n",
      "Iteration:     28,   Func. Count:    256,   Neg. LLF: -2542.126584972999\n",
      "Iteration:     29,   Func. Count:    264,   Neg. LLF: -2542.135207060947\n",
      "Iteration:     30,   Func. Count:    272,   Neg. LLF: -2542.138856227237\n",
      "Iteration:     31,   Func. Count:    280,   Neg. LLF: -2542.139390228529\n",
      "Iteration:     32,   Func. Count:    288,   Neg. LLF: -2542.139573797508\n",
      "Iteration:     33,   Func. Count:    296,   Neg. LLF: -2542.1395808027964\n",
      "Optimization terminated successfully.    (Exit mode 0)\n",
      "            Current function value: -2542.1395808027605\n",
      "            Iterations: 33\n",
      "            Function evaluations: 296\n",
      "            Gradient evaluations: 33\n",
      "                           Constant Mean - GARCH Model Results                           \n",
      "=========================================================================================\n",
      "Dep. Variable:                             Close   R-squared:                       0.000\n",
      "Mean Model:                        Constant Mean   Adj. R-squared:                  0.000\n",
      "Vol Model:                                 GARCH   Log-Likelihood:                2542.14\n",
      "Distribution:      Standardized Skew Student's t   AIC:                          -5072.28\n",
      "Method:                       Maximum Likelihood   BIC:                          -5030.47\n",
      "                                                   No. Observations:                 7853\n",
      "Date:                           Fri, Apr 15 2022   Df Residuals:                     7852\n",
      "Time:                                   19:35:49   Df Model:                            1\n",
      "                                  Mean Model                                 \n",
      "=============================================================================\n",
      "                 coef    std err          t      P>|t|       95.0% Conf. Int.\n",
      "-----------------------------------------------------------------------------\n",
      "mu         2.8579e-04  1.723e-03      0.166      0.868 [-3.091e-03,3.663e-03]\n",
      "                              Volatility Model                              \n",
      "============================================================================\n",
      "                 coef    std err          t      P>|t|      95.0% Conf. Int.\n",
      "----------------------------------------------------------------------------\n",
      "omega      1.3740e-03  2.498e-04      5.500  3.792e-08 [8.844e-04,1.864e-03]\n",
      "alpha[1]       0.0981  1.331e-02      7.376  1.636e-13   [7.206e-02,  0.124]\n",
      "beta[1]        0.8663  1.647e-02     52.613      0.000     [  0.834,  0.899]\n",
      "                                 Distribution                                 \n",
      "==============================================================================\n",
      "                  coef    std err          t      P>|t|       95.0% Conf. Int.\n",
      "------------------------------------------------------------------------------\n",
      "eta             4.9767      0.403     12.347  5.034e-35      [  4.187,  5.767]\n",
      "lambda     -4.2551e-03  1.609e-02     -0.264      0.791 [-3.579e-02,2.728e-02]\n",
      "==============================================================================\n",
      "\n",
      "Covariance estimator: robust\n",
      "Datetime\n",
      "2022-03-18 09:31:00-04:00    0.407702\n",
      "2022-03-18 09:32:00-04:00    0.382144\n",
      "2022-03-18 09:33:00-04:00    0.405506\n",
      "2022-03-18 09:34:00-04:00    0.387496\n",
      "2022-03-18 09:35:00-04:00    0.362713\n",
      "                               ...   \n",
      "2022-04-14 15:56:00-04:00    0.128284\n",
      "2022-04-14 15:57:00-04:00    0.125115\n",
      "2022-04-14 15:58:00-04:00    0.123279\n",
      "2022-04-14 15:59:00-04:00    0.124704\n",
      "2022-04-14 16:00:00-04:00    0.130381\n",
      "Name: cond_vol, Length: 7853, dtype: float64\n"
     ]
    },
    {
     "data": {
      "text/plain": [
       "0.12703946831130847"
      ]
     },
     "execution_count": 13,
     "metadata": {},
     "output_type": "execute_result"
    }
   ],
   "source": [
    "next_min_bound(\"SEDG\", 1)"
   ]
  },
  {
   "cell_type": "code",
   "execution_count": 14,
   "metadata": {},
   "outputs": [],
   "source": [
    "def conditional_vol(ticker):\n",
    "    today = datetime.datetime.now()\n",
    "    four = (today - datetime.timedelta(days = 28)).date().strftime(\"%Y-%m-%d\")\n",
    "    three = (today - datetime.timedelta(days = 21)).date().strftime(\"%Y-%m-%d\")\n",
    "    two = (today - datetime.timedelta(days = 14)).date().strftime(\"%Y-%m-%d\")\n",
    "    one = (today - datetime.timedelta(days = 7)).date().strftime(\"%Y-%m-%d\")\n",
    "    t43 = yf.download(tickers=ticker, start=four, end=three, interval=\"1m\")\n",
    "    t32 = yf.download(tickers=ticker, start=three, end=two, interval=\"1m\")\n",
    "    t21 = yf.download(tickers=ticker, start=two, end=one, interval=\"1m\")\n",
    "    t10 = yf.download(tickers=ticker, period=\"7d\", interval=\"1m\")\n",
    "    ticker = pd.concat([t43, t32, t21, t10])\n",
    "    returns = 10000 * (ticker[\"Close\"].pct_change().dropna())\n",
    "    arch = arch_model(returns, dist=\"skewt\")\n",
    "    result = arch.fit()\n",
    "    return ticker, returns, result.conditional_volatility"
   ]
  },
  {
   "cell_type": "code",
   "execution_count": 15,
   "metadata": {},
   "outputs": [
    {
     "name": "stdout",
     "output_type": "stream",
     "text": [
      "[*********************100%***********************]  1 of 1 completed\n",
      "[*********************100%***********************]  1 of 1 completed\n",
      "[*********************100%***********************]  1 of 1 completed\n",
      "[*********************100%***********************]  1 of 1 completed\n",
      "Iteration:      1,   Func. Count:      8,   Neg. LLF: 34305.68844332429\n",
      "Iteration:      2,   Func. Count:     17,   Neg. LLF: 34165.03670564797\n",
      "Iteration:      3,   Func. Count:     26,   Neg. LLF: 34037.9248084382\n",
      "Iteration:      4,   Func. Count:     35,   Neg. LLF: 33980.21796629872\n",
      "Iteration:      5,   Func. Count:     44,   Neg. LLF: 33948.6100255655\n",
      "Iteration:      6,   Func. Count:     53,   Neg. LLF: 33908.42969676745\n",
      "Iteration:      7,   Func. Count:     62,   Neg. LLF: 33886.08456557094\n",
      "Iteration:      8,   Func. Count:     71,   Neg. LLF: 33880.61783439186\n",
      "Iteration:      9,   Func. Count:     80,   Neg. LLF: 33866.86790758035\n",
      "Iteration:     10,   Func. Count:     89,   Neg. LLF: 33857.352697859256\n",
      "Iteration:     11,   Func. Count:     97,   Neg. LLF: 33845.17905892079\n",
      "Iteration:     12,   Func. Count:    105,   Neg. LLF: 33820.02223236268\n",
      "Iteration:     13,   Func. Count:    113,   Neg. LLF: 33772.25528900368\n",
      "Iteration:     14,   Func. Count:    122,   Neg. LLF: 33757.78426425643\n",
      "Iteration:     15,   Func. Count:    131,   Neg. LLF: 33721.62929298689\n",
      "Iteration:     16,   Func. Count:    140,   Neg. LLF: 33705.24882029048\n",
      "Iteration:     17,   Func. Count:    149,   Neg. LLF: 33685.88343196701\n",
      "Iteration:     18,   Func. Count:    158,   Neg. LLF: 33679.57038871094\n",
      "Iteration:     19,   Func. Count:    167,   Neg. LLF: 33652.32549290233\n",
      "Iteration:     20,   Func. Count:    176,   Neg. LLF: 33649.02216340399\n",
      "Iteration:     21,   Func. Count:    185,   Neg. LLF: 33645.626431173325\n",
      "Iteration:     22,   Func. Count:    194,   Neg. LLF: 33641.38971410066\n",
      "Iteration:     23,   Func. Count:    203,   Neg. LLF: 33632.57399821644\n",
      "Iteration:     24,   Func. Count:    212,   Neg. LLF: 33628.106803205344\n",
      "Iteration:     25,   Func. Count:    221,   Neg. LLF: 33624.11973770533\n",
      "Iteration:     26,   Func. Count:    229,   Neg. LLF: 33622.92860225246\n",
      "Iteration:     27,   Func. Count:    237,   Neg. LLF: 33622.38410851202\n",
      "Iteration:     28,   Func. Count:    245,   Neg. LLF: 33622.28092430385\n",
      "Iteration:     29,   Func. Count:    253,   Neg. LLF: 33622.26896823094\n",
      "Iteration:     30,   Func. Count:    261,   Neg. LLF: 33622.2624410286\n",
      "Iteration:     31,   Func. Count:    269,   Neg. LLF: 33622.26189514499\n",
      "Iteration:     32,   Func. Count:    277,   Neg. LLF: 33622.26189062845\n",
      "Optimization terminated successfully.    (Exit mode 0)\n",
      "            Current function value: 33622.26188974942\n",
      "            Iterations: 32\n",
      "            Function evaluations: 278\n",
      "            Gradient evaluations: 32\n"
     ]
    }
   ],
   "source": [
    "sedg, sedg_returns, sedg_vol = conditional_vol(\"SEDG\")"
   ]
  },
  {
   "cell_type": "code",
   "execution_count": 16,
   "metadata": {},
   "outputs": [
    {
     "name": "stdout",
     "output_type": "stream",
     "text": [
      "[*********************100%***********************]  1 of 1 completed\n",
      "[*********************100%***********************]  1 of 1 completed\n",
      "[*********************100%***********************]  1 of 1 completed\n",
      "[*********************100%***********************]  1 of 1 completed\n",
      "Iteration:      1,   Func. Count:      8,   Neg. LLF: 36293.21323655884\n",
      "Iteration:      2,   Func. Count:     17,   Neg. LLF: 36190.88333292195\n",
      "Iteration:      3,   Func. Count:     26,   Neg. LLF: 36153.25057530614\n",
      "Iteration:      4,   Func. Count:     36,   Neg. LLF: 36107.08232563971\n",
      "Iteration:      5,   Func. Count:     45,   Neg. LLF: 36084.065353748425\n",
      "Iteration:      6,   Func. Count:     54,   Neg. LLF: 35996.983564349954\n",
      "Iteration:      7,   Func. Count:     63,   Neg. LLF: 35962.80161608458\n",
      "Iteration:      8,   Func. Count:     72,   Neg. LLF: 35952.510680835025\n",
      "Iteration:      9,   Func. Count:     81,   Neg. LLF: 35935.04462905986\n",
      "Iteration:     10,   Func. Count:     90,   Neg. LLF: 35923.77361133972\n",
      "Iteration:     11,   Func. Count:    100,   Neg. LLF: 35923.24245901176\n",
      "Iteration:     12,   Func. Count:    110,   Neg. LLF: 35920.52489680539\n",
      "Iteration:     13,   Func. Count:    119,   Neg. LLF: 35918.91633630715\n",
      "Iteration:     14,   Func. Count:    128,   Neg. LLF: 35918.620070356454\n",
      "Iteration:     15,   Func. Count:    137,   Neg. LLF: 35917.300683188514\n",
      "Iteration:     16,   Func. Count:    145,   Neg. LLF: 35917.199122126105\n",
      "Iteration:     17,   Func. Count:    153,   Neg. LLF: 35917.189890776994\n",
      "Iteration:     18,   Func. Count:    161,   Neg. LLF: 35917.18938093245\n",
      "Iteration:     19,   Func. Count:    169,   Neg. LLF: 35917.18935308348\n",
      "Iteration:     20,   Func. Count:    177,   Neg. LLF: 35917.18935166402\n",
      "Optimization terminated successfully.    (Exit mode 0)\n",
      "            Current function value: 35917.18935166405\n",
      "            Iterations: 20\n",
      "            Function evaluations: 177\n",
      "            Gradient evaluations: 20\n"
     ]
    }
   ],
   "source": [
    "enph, enph_returns, enph_vol = conditional_vol(\"ENPH\")"
   ]
  },
  {
   "cell_type": "code",
   "execution_count": 17,
   "metadata": {},
   "outputs": [],
   "source": [
    "sedg_differential = sedg_returns + sedg_vol\n",
    "sedg_times = sedg_differential[sedg_differential < 0].reset_index()"
   ]
  },
  {
   "cell_type": "code",
   "execution_count": 18,
   "metadata": {},
   "outputs": [],
   "source": [
    "enph = enph.reset_index().reset_index()"
   ]
  },
  {
   "cell_type": "code",
   "execution_count": 19,
   "metadata": {},
   "outputs": [
    {
     "name": "stdout",
     "output_type": "stream",
     "text": [
      "-20.163177490234375\n",
      "-27.245925903320312\n",
      "-47.29518127441406\n",
      "-55.383056640625\n",
      "-35.91468811035156\n",
      "-33.0103759765625\n",
      "12.236160278320312\n",
      "20.177154541015625\n",
      "12.536483764648438\n",
      "19.896820068359375\n",
      "26.451492309570312\n",
      "23.829559326171875\n",
      "64.15934753417969\n",
      "55.27467346191406\n",
      "54.73033142089844\n",
      "40.13792419433594\n",
      "53.55064392089844\n",
      "72.99017333984375\n",
      "59.763458251953125\n",
      "84.18247985839844\n",
      "79.79423522949219\n",
      "90.26605224609375\n",
      "90.35267639160156\n",
      "92.72198486328125\n",
      "89.61625671386719\n",
      "112.12388610839844\n",
      "77.73460388183594\n",
      "84.59832763671875\n",
      "87.03530883789062\n"
     ]
    }
   ],
   "source": [
    "for i in range(1, 30):\n",
    "    trimmed = enph[:-i]\n",
    "    entries = trimmed.loc[trimmed[\"Datetime\"].isin(sedg_times[\"Datetime\"])].reset_index(drop=True)\n",
    "    sell = enph.loc[enph[\"index\"].isin(entries[\"index\"] + i)]\n",
    "    profit = sum(sell[\"Close\"]) - sum(entries[\"Close\"])\n",
    "    print(profit)"
   ]
  },
  {
   "cell_type": "code",
   "execution_count": 20,
   "metadata": {},
   "outputs": [],
   "source": [
    "def t1_to_t2_test(ticker1, ticker2, window):\n",
    "    t1, t1_returns, t1_vol = conditional_vol(ticker1)\n",
    "    t2, t2_returns, t2_vol = conditional_vol(ticker2)\n",
    "    t1_diff = t1_returns + t1_vol\n",
    "    t1_times = t1_diff[t1_diff < 0].reset_index()\n",
    "    t2 = t2.reset_index().reset_index()\n",
    "    for i in range(1, window + 1):\n",
    "        trimmed = t2[:-i]\n",
    "        entries = trimmed.loc[trimmed[\"Datetime\"].isin(t1_times[\"Datetime\"])].reset_index(drop=True)\n",
    "        sell = t2.loc[t2[\"index\"].isin(entries[\"index\"] + i)]\n",
    "        profit = sum(sell[\"Close\"]) - sum(entries[\"Close\"])\n",
    "        print(f\"{profit} profit when held for {i} minutes\")"
   ]
  },
  {
   "cell_type": "code",
   "execution_count": 21,
   "metadata": {},
   "outputs": [
    {
     "name": "stdout",
     "output_type": "stream",
     "text": [
      "[*********************100%***********************]  1 of 1 completed\n",
      "[*********************100%***********************]  1 of 1 completed\n",
      "[*********************100%***********************]  1 of 1 completed\n",
      "[*********************100%***********************]  1 of 1 completed\n",
      "Iteration:      1,   Func. Count:      8,   Neg. LLF: 34305.68844332429\n",
      "Iteration:      2,   Func. Count:     17,   Neg. LLF: 34165.03670564797\n",
      "Iteration:      3,   Func. Count:     26,   Neg. LLF: 34037.9248084382\n",
      "Iteration:      4,   Func. Count:     35,   Neg. LLF: 33980.21796629872\n",
      "Iteration:      5,   Func. Count:     44,   Neg. LLF: 33948.6100255655\n",
      "Iteration:      6,   Func. Count:     53,   Neg. LLF: 33908.42969676745\n",
      "Iteration:      7,   Func. Count:     62,   Neg. LLF: 33886.08456557094\n",
      "Iteration:      8,   Func. Count:     71,   Neg. LLF: 33880.61783439186\n",
      "Iteration:      9,   Func. Count:     80,   Neg. LLF: 33866.86790758035\n",
      "Iteration:     10,   Func. Count:     89,   Neg. LLF: 33857.352697859256\n",
      "Iteration:     11,   Func. Count:     97,   Neg. LLF: 33845.17905892079\n",
      "Iteration:     12,   Func. Count:    105,   Neg. LLF: 33820.02223236268\n",
      "Iteration:     13,   Func. Count:    113,   Neg. LLF: 33772.25528900368\n",
      "Iteration:     14,   Func. Count:    122,   Neg. LLF: 33757.78426425643\n",
      "Iteration:     15,   Func. Count:    131,   Neg. LLF: 33721.62929298689\n",
      "Iteration:     16,   Func. Count:    140,   Neg. LLF: 33705.24882029048\n",
      "Iteration:     17,   Func. Count:    149,   Neg. LLF: 33685.88343196701\n",
      "Iteration:     18,   Func. Count:    158,   Neg. LLF: 33679.57038871094\n",
      "Iteration:     19,   Func. Count:    167,   Neg. LLF: 33652.32549290233\n",
      "Iteration:     20,   Func. Count:    176,   Neg. LLF: 33649.02216340399\n",
      "Iteration:     21,   Func. Count:    185,   Neg. LLF: 33645.626431173325\n",
      "Iteration:     22,   Func. Count:    194,   Neg. LLF: 33641.38971410066\n",
      "Iteration:     23,   Func. Count:    203,   Neg. LLF: 33632.57399821644\n",
      "Iteration:     24,   Func. Count:    212,   Neg. LLF: 33628.106803205344\n",
      "Iteration:     25,   Func. Count:    221,   Neg. LLF: 33624.11973770533\n",
      "Iteration:     26,   Func. Count:    229,   Neg. LLF: 33622.92860225246\n",
      "Iteration:     27,   Func. Count:    237,   Neg. LLF: 33622.38410851202\n",
      "Iteration:     28,   Func. Count:    245,   Neg. LLF: 33622.28092430385\n",
      "Iteration:     29,   Func. Count:    253,   Neg. LLF: 33622.26896823094\n",
      "Iteration:     30,   Func. Count:    261,   Neg. LLF: 33622.2624410286\n",
      "Iteration:     31,   Func. Count:    269,   Neg. LLF: 33622.26189514499\n",
      "Iteration:     32,   Func. Count:    277,   Neg. LLF: 33622.26189062845\n",
      "Optimization terminated successfully.    (Exit mode 0)\n",
      "            Current function value: 33622.26188974942\n",
      "            Iterations: 32\n",
      "            Function evaluations: 278\n",
      "            Gradient evaluations: 32\n",
      "[*********************100%***********************]  1 of 1 completed\n",
      "[*********************100%***********************]  1 of 1 completed\n",
      "[*********************100%***********************]  1 of 1 completed\n",
      "[*********************100%***********************]  1 of 1 completed\n",
      "Iteration:      1,   Func. Count:      8,   Neg. LLF: 36293.21323655884\n",
      "Iteration:      2,   Func. Count:     17,   Neg. LLF: 36190.88333292195\n",
      "Iteration:      3,   Func. Count:     26,   Neg. LLF: 36153.25057530614\n",
      "Iteration:      4,   Func. Count:     36,   Neg. LLF: 36107.08232563971\n",
      "Iteration:      5,   Func. Count:     45,   Neg. LLF: 36084.065353748425\n",
      "Iteration:      6,   Func. Count:     54,   Neg. LLF: 35996.983564349954\n",
      "Iteration:      7,   Func. Count:     63,   Neg. LLF: 35962.80161608458\n",
      "Iteration:      8,   Func. Count:     72,   Neg. LLF: 35952.510680835025\n",
      "Iteration:      9,   Func. Count:     81,   Neg. LLF: 35935.04462905986\n",
      "Iteration:     10,   Func. Count:     90,   Neg. LLF: 35923.77361133972\n",
      "Iteration:     11,   Func. Count:    100,   Neg. LLF: 35923.24245901176\n",
      "Iteration:     12,   Func. Count:    110,   Neg. LLF: 35920.52489680539\n",
      "Iteration:     13,   Func. Count:    119,   Neg. LLF: 35918.91633630715\n",
      "Iteration:     14,   Func. Count:    128,   Neg. LLF: 35918.620070356454\n",
      "Iteration:     15,   Func. Count:    137,   Neg. LLF: 35917.300683188514\n",
      "Iteration:     16,   Func. Count:    145,   Neg. LLF: 35917.199122126105\n",
      "Iteration:     17,   Func. Count:    153,   Neg. LLF: 35917.189890776994\n",
      "Iteration:     18,   Func. Count:    161,   Neg. LLF: 35917.18938093245\n",
      "Iteration:     19,   Func. Count:    169,   Neg. LLF: 35917.18935308348\n",
      "Iteration:     20,   Func. Count:    177,   Neg. LLF: 35917.18935166402\n",
      "Optimization terminated successfully.    (Exit mode 0)\n",
      "            Current function value: 35917.18935166405\n",
      "            Iterations: 20\n",
      "            Function evaluations: 177\n",
      "            Gradient evaluations: 20\n",
      "-20.163177490234375 profit when held for 1 minutes\n",
      "-27.245925903320312 profit when held for 2 minutes\n",
      "-47.29518127441406 profit when held for 3 minutes\n",
      "-55.383056640625 profit when held for 4 minutes\n",
      "-35.91468811035156 profit when held for 5 minutes\n",
      "-33.0103759765625 profit when held for 6 minutes\n",
      "12.236160278320312 profit when held for 7 minutes\n",
      "20.177154541015625 profit when held for 8 minutes\n",
      "12.536483764648438 profit when held for 9 minutes\n",
      "19.896820068359375 profit when held for 10 minutes\n",
      "26.451492309570312 profit when held for 11 minutes\n",
      "23.829559326171875 profit when held for 12 minutes\n",
      "64.15934753417969 profit when held for 13 minutes\n",
      "55.27467346191406 profit when held for 14 minutes\n",
      "54.73033142089844 profit when held for 15 minutes\n",
      "40.13792419433594 profit when held for 16 minutes\n",
      "53.55064392089844 profit when held for 17 minutes\n",
      "72.99017333984375 profit when held for 18 minutes\n",
      "59.763458251953125 profit when held for 19 minutes\n",
      "84.18247985839844 profit when held for 20 minutes\n",
      "79.79423522949219 profit when held for 21 minutes\n",
      "90.26605224609375 profit when held for 22 minutes\n",
      "90.35267639160156 profit when held for 23 minutes\n",
      "92.72198486328125 profit when held for 24 minutes\n",
      "89.61625671386719 profit when held for 25 minutes\n",
      "112.12388610839844 profit when held for 26 minutes\n",
      "77.73460388183594 profit when held for 27 minutes\n",
      "84.59832763671875 profit when held for 28 minutes\n",
      "87.03530883789062 profit when held for 29 minutes\n",
      "74.91940307617188 profit when held for 30 minutes\n"
     ]
    }
   ],
   "source": [
    "t1_to_t2_test(\"SEDG\", \"ENPH\", 30)"
   ]
  }
 ],
 "metadata": {
  "kernelspec": {
   "display_name": "Python 3",
   "language": "python",
   "name": "python3"
  },
  "language_info": {
   "codemirror_mode": {
    "name": "ipython",
    "version": 3
   },
   "file_extension": ".py",
   "mimetype": "text/x-python",
   "name": "python",
   "nbconvert_exporter": "python",
   "pygments_lexer": "ipython3",
   "version": "3.7.4"
  }
 },
 "nbformat": 4,
 "nbformat_minor": 2
}

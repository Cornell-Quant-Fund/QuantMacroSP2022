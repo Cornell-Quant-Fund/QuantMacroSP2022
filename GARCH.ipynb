{
 "cells": [
  {
   "cell_type": "code",
   "execution_count": 17,
   "metadata": {},
   "outputs": [],
   "source": [
    "import pandas as pd\n",
    "import numpy as np\n",
    "import yfinance as yf\n",
    "import arch\n",
    "from arch.unitroot import ADF\n",
    "from arch import arch_model\n",
    "import matplotlib.pyplot as plt"
   ]
  },
  {
   "cell_type": "code",
   "execution_count": 4,
   "metadata": {},
   "outputs": [
    {
     "name": "stdout",
     "output_type": "stream",
     "text": [
      "[*********************100%***********************]  1 of 1 completed\n",
      "[*********************100%***********************]  1 of 1 completed\n"
     ]
    }
   ],
   "source": [
    "seel = yf.download(tickers=\"SEEL\", period=\"7d\", interval=\"1m\")\n",
    "zyne = yf.download(tickers=\"ZYNE\", period=\"7d\", interval=\"1m\")"
   ]
  },
  {
   "cell_type": "code",
   "execution_count": 5,
   "metadata": {},
   "outputs": [
    {
     "name": "stdout",
     "output_type": "stream",
     "text": [
      "   Augmented Dickey-Fuller Results   \n",
      "=====================================\n",
      "Test Statistic                 -2.823\n",
      "P-value                         0.055\n",
      "Lags                                1\n",
      "-------------------------------------\n",
      "\n",
      "Trend: Constant\n",
      "Critical Values: -3.44 (1%), -2.86 (5%), -2.57 (10%)\n",
      "Null Hypothesis: The process contains a unit root.\n",
      "Alternative Hypothesis: The process is weakly stationary.\n"
     ]
    }
   ],
   "source": [
    "zyne_adf = ADF(zyne[\"Close\"])\n",
    "print(zyne_adf.summary().as_text())"
   ]
  },
  {
   "cell_type": "code",
   "execution_count": 26,
   "metadata": {},
   "outputs": [
    {
     "name": "stdout",
     "output_type": "stream",
     "text": [
      "Iteration:      1,   Func. Count:      8,   Neg. LLF: 428.4342242963286\n",
      "Iteration:      2,   Func. Count:     20,   Neg. LLF: 428.42661953018956\n",
      "Iteration:      3,   Func. Count:     30,   Neg. LLF: 427.91998688787953\n",
      "Iteration:      4,   Func. Count:     40,   Neg. LLF: 427.64562800604523\n",
      "Iteration:      5,   Func. Count:     50,   Neg. LLF: 427.5795091238193\n",
      "Iteration:      6,   Func. Count:     59,   Neg. LLF: 427.3305351713992\n",
      "Iteration:      7,   Func. Count:     68,   Neg. LLF: 427.23729270322514\n",
      "Iteration:      8,   Func. Count:     77,   Neg. LLF: 427.1132206152216\n",
      "Iteration:      9,   Func. Count:     85,   Neg. LLF: 427.1067183585103\n",
      "Iteration:     10,   Func. Count:     93,   Neg. LLF: 427.10523857607313\n",
      "Iteration:     11,   Func. Count:    101,   Neg. LLF: 427.10451425817905\n",
      "Iteration:     12,   Func. Count:    109,   Neg. LLF: 427.10394582958656\n",
      "Iteration:     13,   Func. Count:    117,   Neg. LLF: 427.1039215917705\n",
      "Optimization terminated successfully.    (Exit mode 0)\n",
      "            Current function value: 427.10392159179526\n",
      "            Iterations: 13\n",
      "            Function evaluations: 117\n",
      "            Gradient evaluations: 13\n",
      "                           Constant Mean - GARCH Model Results                           \n",
      "=========================================================================================\n",
      "Dep. Variable:                             Close   R-squared:                       0.000\n",
      "Mean Model:                        Constant Mean   Adj. R-squared:                  0.000\n",
      "Vol Model:                                 GARCH   Log-Likelihood:               -427.104\n",
      "Distribution:      Standardized Skew Student's t   AIC:                           866.208\n",
      "Method:                       Maximum Likelihood   BIC:                           897.270\n",
      "                                                   No. Observations:                 1309\n",
      "Date:                           Wed, Apr 13 2022   Df Residuals:                     1308\n",
      "Time:                                   21:21:56   Df Model:                            1\n",
      "                                  Mean Model                                  \n",
      "==============================================================================\n",
      "                  coef    std err          t      P>|t|       95.0% Conf. Int.\n",
      "------------------------------------------------------------------------------\n",
      "mu         -9.9596e-03  9.204e-03     -1.082      0.279 [-2.800e-02,8.080e-03]\n",
      "                              Volatility Model                              \n",
      "============================================================================\n",
      "                 coef    std err          t      P>|t|      95.0% Conf. Int.\n",
      "----------------------------------------------------------------------------\n",
      "omega          0.0408  1.358e-02      3.006  2.651e-03 [1.420e-02,6.745e-02]\n",
      "alpha[1]       0.1206  3.517e-02      3.430  6.039e-04   [5.169e-02,  0.190]\n",
      "beta[1]        0.5329      0.127      4.193  2.758e-05     [  0.284,  0.782]\n",
      "                                 Distribution                                \n",
      "=============================================================================\n",
      "                 coef    std err          t      P>|t|       95.0% Conf. Int.\n",
      "-----------------------------------------------------------------------------\n",
      "eta            9.2067      2.740      3.360  7.789e-04      [  3.837, 14.577]\n",
      "lambda     9.0647e-03  2.181e-02      0.416      0.678 [-3.368e-02,5.181e-02]\n",
      "=============================================================================\n",
      "\n",
      "Covariance estimator: robust\n"
     ]
    }
   ],
   "source": [
    "zyne_returns = 100 * (zyne[\"Close\"].pct_change().dropna())\n",
    "zyne_arch = arch_model(zyne_returns, dist=\"skewt\")\n",
    "zyne_res = zyne_arch.fit()\n",
    "print(zyne_res.summary())"
   ]
  },
  {
   "cell_type": "code",
   "execution_count": 27,
   "metadata": {},
   "outputs": [
    {
     "name": "stderr",
     "output_type": "stream",
     "text": [
      "C:\\Users\\Michael\\Anaconda3\\lib\\site-packages\\matplotlib\\cbook\\__init__.py:1402: FutureWarning: Support for multi-dimensional indexing (e.g. `obj[:, None]`) is deprecated and will be removed in a future version.  Convert to a numpy array before indexing instead.\n",
      "  x[:, None]\n",
      "C:\\Users\\Michael\\Anaconda3\\lib\\site-packages\\matplotlib\\axes\\_base.py:278: FutureWarning: Support for multi-dimensional indexing (e.g. `obj[:, None]`) is deprecated and will be removed in a future version.  Convert to a numpy array before indexing instead.\n",
      "  y = y[:, np.newaxis]\n"
     ]
    },
    {
     "data": {
      "image/png": "[encoded data removed]",
      "text/plain": [
       "<Figure size 432x288 with 2 Axes>"
      ]
     },
     "execution_count": 27,
     "metadata": {},
     "output_type": "execute_result"
    },
    {
     "data": {
      "image/png": "[encoded data removed]",
      "text/plain": [
       "<Figure size 432x288 with 2 Axes>"
      ]
     },
     "metadata": {
      "needs_background": "light"
     },
     "output_type": "display_data"
    }
   ],
   "source": [
    "zyne_res.plot()"
   ]
  },
  {
   "cell_type": "code",
   "execution_count": 28,
   "metadata": {},
   "outputs": [
    {
     "data": {
      "text/plain": [
       "Datetime\n",
       "2022-04-05 09:30:00-04:00    2.080\n",
       "2022-04-05 09:31:00-04:00    2.065\n",
       "2022-04-05 09:32:00-04:00    2.060\n",
       "2022-04-05 09:34:00-04:00    2.070\n",
       "2022-04-05 09:35:00-04:00    2.070\n",
       "                             ...  \n",
       "2022-04-13 15:56:00-04:00    1.780\n",
       "2022-04-13 15:57:00-04:00    1.771\n",
       "2022-04-13 15:58:00-04:00    1.771\n",
       "2022-04-13 15:59:00-04:00    1.780\n",
       "2022-04-13 16:00:00-04:00    1.780\n",
       "Name: Close, Length: 1310, dtype: float64"
      ]
     },
     "execution_count": 28,
     "metadata": {},
     "output_type": "execute_result"
    }
   ],
   "source": [
    "zyne[\"Close\"]"
   ]
  },
  {
   "cell_type": "code",
   "execution_count": 33,
   "metadata": {},
   "outputs": [
    {
     "name": "stderr",
     "output_type": "stream",
     "text": [
      "C:\\Users\\Michael\\AppData\\Roaming\\Python\\Python37\\site-packages\\arch\\__future__\\_utility.py:21: FutureWarning: \n",
      "The default for reindex is True. After September 2021 this will change to\n",
      "False. Set reindex to True or False to silence this message. Alternatively,\n",
      "you can use the import comment\n",
      "\n",
      "from arch.__future__ import reindexing\n",
      "\n",
      "to globally set reindex to True and silence this warning.\n",
      "\n",
      "  FutureWarning,\n"
     ]
    },
    {
     "data": {
      "text/html": [
       "<div>\n",
       "<style scoped>\n",
       "    .dataframe tbody tr th:only-of-type {\n",
       "        vertical-align: middle;\n",
       "    }\n",
       "\n",
       "    .dataframe tbody tr th {\n",
       "        vertical-align: top;\n",
       "    }\n",
       "\n",
       "    .dataframe thead th {\n",
       "        text-align: right;\n",
       "    }\n",
       "</style>\n",
       "<table border=\"1\" class=\"dataframe\">\n",
       "  <thead>\n",
       "    <tr style=\"text-align: right;\">\n",
       "      <th></th>\n",
       "      <th>h.01</th>\n",
       "      <th>h.02</th>\n",
       "      <th>h.03</th>\n",
       "      <th>h.04</th>\n",
       "      <th>h.05</th>\n",
       "      <th>h.06</th>\n",
       "      <th>h.07</th>\n",
       "      <th>h.08</th>\n",
       "      <th>h.09</th>\n",
       "      <th>h.10</th>\n",
       "    </tr>\n",
       "    <tr>\n",
       "      <th>Datetime</th>\n",
       "      <th></th>\n",
       "      <th></th>\n",
       "      <th></th>\n",
       "      <th></th>\n",
       "      <th></th>\n",
       "      <th></th>\n",
       "      <th></th>\n",
       "      <th></th>\n",
       "      <th></th>\n",
       "      <th></th>\n",
       "    </tr>\n",
       "  </thead>\n",
       "  <tbody>\n",
       "    <tr>\n",
       "      <th>2022-04-05 09:31:00-04:00</th>\n",
       "      <td>NaN</td>\n",
       "      <td>NaN</td>\n",
       "      <td>NaN</td>\n",
       "      <td>NaN</td>\n",
       "      <td>NaN</td>\n",
       "      <td>NaN</td>\n",
       "      <td>NaN</td>\n",
       "      <td>NaN</td>\n",
       "      <td>NaN</td>\n",
       "      <td>NaN</td>\n",
       "    </tr>\n",
       "    <tr>\n",
       "      <th>2022-04-05 09:32:00-04:00</th>\n",
       "      <td>NaN</td>\n",
       "      <td>NaN</td>\n",
       "      <td>NaN</td>\n",
       "      <td>NaN</td>\n",
       "      <td>NaN</td>\n",
       "      <td>NaN</td>\n",
       "      <td>NaN</td>\n",
       "      <td>NaN</td>\n",
       "      <td>NaN</td>\n",
       "      <td>NaN</td>\n",
       "    </tr>\n",
       "    <tr>\n",
       "      <th>2022-04-05 09:34:00-04:00</th>\n",
       "      <td>NaN</td>\n",
       "      <td>NaN</td>\n",
       "      <td>NaN</td>\n",
       "      <td>NaN</td>\n",
       "      <td>NaN</td>\n",
       "      <td>NaN</td>\n",
       "      <td>NaN</td>\n",
       "      <td>NaN</td>\n",
       "      <td>NaN</td>\n",
       "      <td>NaN</td>\n",
       "    </tr>\n",
       "    <tr>\n",
       "      <th>2022-04-05 09:35:00-04:00</th>\n",
       "      <td>NaN</td>\n",
       "      <td>NaN</td>\n",
       "      <td>NaN</td>\n",
       "      <td>NaN</td>\n",
       "      <td>NaN</td>\n",
       "      <td>NaN</td>\n",
       "      <td>NaN</td>\n",
       "      <td>NaN</td>\n",
       "      <td>NaN</td>\n",
       "      <td>NaN</td>\n",
       "    </tr>\n",
       "    <tr>\n",
       "      <th>2022-04-05 09:36:00-04:00</th>\n",
       "      <td>NaN</td>\n",
       "      <td>NaN</td>\n",
       "      <td>NaN</td>\n",
       "      <td>NaN</td>\n",
       "      <td>NaN</td>\n",
       "      <td>NaN</td>\n",
       "      <td>NaN</td>\n",
       "      <td>NaN</td>\n",
       "      <td>NaN</td>\n",
       "      <td>NaN</td>\n",
       "    </tr>\n",
       "    <tr>\n",
       "      <th>...</th>\n",
       "      <td>...</td>\n",
       "      <td>...</td>\n",
       "      <td>...</td>\n",
       "      <td>...</td>\n",
       "      <td>...</td>\n",
       "      <td>...</td>\n",
       "      <td>...</td>\n",
       "      <td>...</td>\n",
       "      <td>...</td>\n",
       "      <td>...</td>\n",
       "    </tr>\n",
       "    <tr>\n",
       "      <th>2022-04-13 15:56:00-04:00</th>\n",
       "      <td>NaN</td>\n",
       "      <td>NaN</td>\n",
       "      <td>NaN</td>\n",
       "      <td>NaN</td>\n",
       "      <td>NaN</td>\n",
       "      <td>NaN</td>\n",
       "      <td>NaN</td>\n",
       "      <td>NaN</td>\n",
       "      <td>NaN</td>\n",
       "      <td>NaN</td>\n",
       "    </tr>\n",
       "    <tr>\n",
       "      <th>2022-04-13 15:57:00-04:00</th>\n",
       "      <td>NaN</td>\n",
       "      <td>NaN</td>\n",
       "      <td>NaN</td>\n",
       "      <td>NaN</td>\n",
       "      <td>NaN</td>\n",
       "      <td>NaN</td>\n",
       "      <td>NaN</td>\n",
       "      <td>NaN</td>\n",
       "      <td>NaN</td>\n",
       "      <td>NaN</td>\n",
       "    </tr>\n",
       "    <tr>\n",
       "      <th>2022-04-13 15:58:00-04:00</th>\n",
       "      <td>NaN</td>\n",
       "      <td>NaN</td>\n",
       "      <td>NaN</td>\n",
       "      <td>NaN</td>\n",
       "      <td>NaN</td>\n",
       "      <td>NaN</td>\n",
       "      <td>NaN</td>\n",
       "      <td>NaN</td>\n",
       "      <td>NaN</td>\n",
       "      <td>NaN</td>\n",
       "    </tr>\n",
       "    <tr>\n",
       "      <th>2022-04-13 15:59:00-04:00</th>\n",
       "      <td>NaN</td>\n",
       "      <td>NaN</td>\n",
       "      <td>NaN</td>\n",
       "      <td>NaN</td>\n",
       "      <td>NaN</td>\n",
       "      <td>NaN</td>\n",
       "      <td>NaN</td>\n",
       "      <td>NaN</td>\n",
       "      <td>NaN</td>\n",
       "      <td>NaN</td>\n",
       "    </tr>\n",
       "    <tr>\n",
       "      <th>2022-04-13 16:00:00-04:00</th>\n",
       "      <td>0.109832</td>\n",
       "      <td>0.112603</td>\n",
       "      <td>0.114413</td>\n",
       "      <td>0.115597</td>\n",
       "      <td>0.11637</td>\n",
       "      <td>0.116875</td>\n",
       "      <td>0.117205</td>\n",
       "      <td>0.117421</td>\n",
       "      <td>0.117562</td>\n",
       "      <td>0.117654</td>\n",
       "    </tr>\n",
       "  </tbody>\n",
       "</table>\n",
       "<p>1309 rows × 10 columns</p>\n",
       "</div>"
      ],
      "text/plain": [
       "                               h.01      h.02      h.03      h.04     h.05  \\\n",
       "Datetime                                                                     \n",
       "2022-04-05 09:31:00-04:00       NaN       NaN       NaN       NaN      NaN   \n",
       "2022-04-05 09:32:00-04:00       NaN       NaN       NaN       NaN      NaN   \n",
       "2022-04-05 09:34:00-04:00       NaN       NaN       NaN       NaN      NaN   \n",
       "2022-04-05 09:35:00-04:00       NaN       NaN       NaN       NaN      NaN   \n",
       "2022-04-05 09:36:00-04:00       NaN       NaN       NaN       NaN      NaN   \n",
       "...                             ...       ...       ...       ...      ...   \n",
       "2022-04-13 15:56:00-04:00       NaN       NaN       NaN       NaN      NaN   \n",
       "2022-04-13 15:57:00-04:00       NaN       NaN       NaN       NaN      NaN   \n",
       "2022-04-13 15:58:00-04:00       NaN       NaN       NaN       NaN      NaN   \n",
       "2022-04-13 15:59:00-04:00       NaN       NaN       NaN       NaN      NaN   \n",
       "2022-04-13 16:00:00-04:00  0.109832  0.112603  0.114413  0.115597  0.11637   \n",
       "\n",
       "                               h.06      h.07      h.08      h.09      h.10  \n",
       "Datetime                                                                     \n",
       "2022-04-05 09:31:00-04:00       NaN       NaN       NaN       NaN       NaN  \n",
       "2022-04-05 09:32:00-04:00       NaN       NaN       NaN       NaN       NaN  \n",
       "2022-04-05 09:34:00-04:00       NaN       NaN       NaN       NaN       NaN  \n",
       "2022-04-05 09:35:00-04:00       NaN       NaN       NaN       NaN       NaN  \n",
       "2022-04-05 09:36:00-04:00       NaN       NaN       NaN       NaN       NaN  \n",
       "...                             ...       ...       ...       ...       ...  \n",
       "2022-04-13 15:56:00-04:00       NaN       NaN       NaN       NaN       NaN  \n",
       "2022-04-13 15:57:00-04:00       NaN       NaN       NaN       NaN       NaN  \n",
       "2022-04-13 15:58:00-04:00       NaN       NaN       NaN       NaN       NaN  \n",
       "2022-04-13 15:59:00-04:00       NaN       NaN       NaN       NaN       NaN  \n",
       "2022-04-13 16:00:00-04:00  0.116875  0.117205  0.117421  0.117562  0.117654  \n",
       "\n",
       "[1309 rows x 10 columns]"
      ]
     },
     "execution_count": 33,
     "metadata": {},
     "output_type": "execute_result"
    }
   ],
   "source": [
    "zyne_forecast = zyne_res.forecast(horizon=10)\n",
    "zyne_forecast.variance"
   ]
  }
 ],
 "metadata": {
  "kernelspec": {
   "display_name": "Python 3",
   "language": "python",
   "name": "python3"
  },
  "language_info": {
   "codemirror_mode": {
    "name": "ipython",
    "version": 3
   },
   "file_extension": ".py",
   "mimetype": "text/x-python",
   "name": "python",
   "nbconvert_exporter": "python",
   "pygments_lexer": "ipython3",
   "version": "3.7.4"
  }
 },
 "nbformat": 4,
 "nbformat_minor": 2
}
